{
 "cells": [
  {
   "cell_type": "markdown",
   "id": "5b4c95ba-26a3-4725-add1-621bf663ec02",
   "metadata": {},
   "source": [
    "# News Classifier Quickstart\n",
    "\n",
    "The code should run out of the box if the following dependencies are installed:\n",
    "```\n",
    "# dependencies:\n",
    "# pytorch\n",
    "# transformers\n",
    "# safetensors\n",
    "```\n",
    "The models are packaged in the `news_clf` subdirectory. The mode classes handle tokenization to the training length (1500 tokens) and calculation of class scores (ordinal model only) and class probabilities from the base model outputs.\n",
    "\n",
    "The base model is `microsoft/deberta-v3-xsmall`. The \"`xsmall`\" model specification is actually the same size as `deberta-v3-small`, but trades breadth for depth (smaller embeddings, deeper network), which should work better given the abstract nature of the target categories. More depth allows the article information to be integrated across a larger range."
   ]
  },
  {
   "cell_type": "code",
   "execution_count": 1,
   "id": "3d044ebf-f87b-4dca-b14d-27bd05f67c12",
   "metadata": {},
   "outputs": [
    {
     "name": "stderr",
     "output_type": "stream",
     "text": [
      "2025-06-09 23:12:03.621089: I tensorflow/core/util/port.cc:153] oneDNN custom operations are on. You may see slightly different numerical results due to floating-point round-off errors from different computation orders. To turn them off, set the environment variable `TF_ENABLE_ONEDNN_OPTS=0`.\n",
      "2025-06-09 23:12:03.628527: E external/local_xla/xla/stream_executor/cuda/cuda_fft.cc:467] Unable to register cuFFT factory: Attempting to register factory for plugin cuFFT when one has already been registered\n",
      "WARNING: All log messages before absl::InitializeLog() is called are written to STDERR\n",
      "E0000 00:00:1749525123.637607  164894 cuda_dnn.cc:8579] Unable to register cuDNN factory: Attempting to register factory for plugin cuDNN when one has already been registered\n",
      "E0000 00:00:1749525123.640308  164894 cuda_blas.cc:1407] Unable to register cuBLAS factory: Attempting to register factory for plugin cuBLAS when one has already been registered\n",
      "W0000 00:00:1749525123.647240  164894 computation_placer.cc:177] computation placer already registered. Please check linkage and avoid linking the same target more than once.\n",
      "W0000 00:00:1749525123.647249  164894 computation_placer.cc:177] computation placer already registered. Please check linkage and avoid linking the same target more than once.\n",
      "W0000 00:00:1749525123.647251  164894 computation_placer.cc:177] computation placer already registered. Please check linkage and avoid linking the same target more than once.\n",
      "W0000 00:00:1749525123.647251  164894 computation_placer.cc:177] computation placer already registered. Please check linkage and avoid linking the same target more than once.\n",
      "2025-06-09 23:12:03.650124: I tensorflow/core/platform/cpu_feature_guard.cc:210] This TensorFlow binary is optimized to use available CPU instructions in performance-critical operations.\n",
      "To enable the following instructions: AVX2 AVX_VNNI FMA, in other operations, rebuild TensorFlow with the appropriate compiler flags.\n"
     ]
    }
   ],
   "source": [
    "from news_clf import ( PretrainedModelForOrdinalSequenceClassification, \n",
    "                       PretrainedModelForUnorderedSequenceClassification )\n",
    "\n",
    "device_map = 'cpu' # set to 'auto' to use gpu if available"
   ]
  },
  {
   "cell_type": "markdown",
   "id": "30161131-2a51-4fe6-a5d5-4b1c8640a549",
   "metadata": {},
   "source": [
    "### Load in the two model versions\n",
    "\n",
    "The two models perform comparably but the ordinal model edges out the 3-discrete class model by about .1% accuracy. Both achieve about 89% accuracy and can be used for probabilities, but only the ordinal model returns a one-dimensional score for the articles."
   ]
  },
  {
   "cell_type": "code",
   "execution_count": 2,
   "id": "b67eabc3-6c3c-4aa5-b965-4864930ab7a9",
   "metadata": {},
   "outputs": [
    {
     "name": "stderr",
     "output_type": "stream",
     "text": [
      "Some weights of DebertaV2ForSequenceClassification were not initialized from the model checkpoint at microsoft/deberta-v3-xsmall and are newly initialized: ['classifier.bias', 'classifier.weight', 'pooler.dense.bias', 'pooler.dense.weight']\n",
      "You should probably TRAIN this model on a down-stream task to be able to use it for predictions and inference.\n",
      "/home/matthias/anaconda3/lib/python3.12/site-packages/transformers/convert_slow_tokenizer.py:559: UserWarning: The sentencepiece tokenizer that you are converting to a fast tokenizer uses the byte fallback option which is not implemented in the fast tokenizers. In practice this means that the fast version of the tokenizer can produce unknown tokens whereas the sentencepiece version would have converted these unknown tokens into a sequence of byte tokens matching the original piece of text.\n",
      "  warnings.warn(\n"
     ]
    }
   ],
   "source": [
    "checkpoint_3class = '3class_model_best_checkpoint.safetensors' # accuracy for the 3class model is .8957\n",
    "clf_3class = PretrainedModelForUnorderedSequenceClassification(device_map=device_map, checkpoint=checkpoint_3class)"
   ]
  },
  {
   "cell_type": "code",
   "execution_count": 3,
   "id": "4f3816f6-0508-4ba0-8bb1-bbc1fb072607",
   "metadata": {},
   "outputs": [
    {
     "name": "stderr",
     "output_type": "stream",
     "text": [
      "/home/matthias/anaconda3/lib/python3.12/site-packages/transformers/convert_slow_tokenizer.py:559: UserWarning: The sentencepiece tokenizer that you are converting to a fast tokenizer uses the byte fallback option which is not implemented in the fast tokenizers. In practice this means that the fast version of the tokenizer can produce unknown tokens whereas the sentencepiece version would have converted these unknown tokens into a sequence of byte tokens matching the original piece of text.\n",
      "  warnings.warn(\n"
     ]
    }
   ],
   "source": [
    "checkpoint_ordinal = 'ordinal_model_best_checkpoint.safetensors' # accuracy for the ordinal model is .8973\n",
    "clf_ordinal = PretrainedModelForOrdinalSequenceClassification(device_map=device_map, checkpoint=checkpoint_ordinal)"
   ]
  },
  {
   "cell_type": "markdown",
   "id": "c0666325-b211-459a-8d9d-8749b42b71be",
   "metadata": {},
   "source": [
    "### Processing an article\n",
    "\n",
    "Use the `classify_article` method with a title and body (the model requires both, if there is no title input the empty string `''`). Articles are truncated to a maximum of 1,500 tokens."
   ]
  },
  {
   "cell_type": "code",
   "execution_count": 4,
   "id": "25e01130-207c-4382-b4ef-a49809c6c051",
   "metadata": {},
   "outputs": [],
   "source": [
    "import pandas as pd\n",
    "\n",
    "# load in the training data\n",
    "df_framing_annotations = pd.read_csv('Dataset-framing_annotations-Llama-3.3-70B-Instruct-Turbo.csv')"
   ]
  },
  {
   "cell_type": "markdown",
   "id": "c514dcee-e475-4470-97fc-99fbcccaae10",
   "metadata": {},
   "source": [
    "#### A neutral article:"
   ]
  },
  {
   "cell_type": "code",
   "execution_count": 5,
   "id": "86bcbc66-a808-49a2-9ebd-696fa62460e8",
   "metadata": {},
   "outputs": [
    {
     "name": "stdout",
     "output_type": "stream",
     "text": [
      "{'uri': 'mcdowellnews.com', 'dataType': 'news', 'title': 'McDowellNews.com'}\n",
      "Old Fort vehicle parts manufacturer honored by GM, Honda for efforts after Hurricane Helene\n",
      "One of McDowell County's largest employers was recognized by General Motors and Honda for the resilience of its workers in the aftermath of Hurricane Helene.\n",
      "\n",
      "Located at 1506 E. Main St. in Old Fort, the Auria Solutions Engineering Center produces carpeting for the interiors of vehicles and has employed thousands of workers.\n",
      "\n",
      "Like other manufacturers in western North Carolina, Auria was heavily impacted by Hurricane Helene late last September.\n",
      "\n",
      "\"Old Fort, NC, home to one of our key manufacturing facilities, sustained some of the worst flooding in the state, according to multiple news sources,\" reads a statement from the Auria. \"The muddy floods took out bridges, roads, homes, businesses, power, the town's clean water supply and sewage. Though our plant lost power, water and sewage, the flood waters did not enter the plant, allowing us to offer shelter to employees displaced from flooded homes in the first days of the storm. The damage and displacement of employees over the course of the storm inevitably brought production to a halt.\"\n",
      "\n",
      "People are also reading... McDowell County man carrying on English family cattle legacy, turning from dairy to farm-to-table beef Song written in memory of longtime Old Fort music teacher to be played by McDowell County students McDowell nonprofit asks Marion leaders to address concerns of hemp-derived products Downtown Marion restaurant set to close as owners start new venture in cheese making 114 year old McDowell County mountain church to rebuild from Hurricane Helene Siblings from Morganton[truncated]...\n",
      "\n",
      "Annotation: NEUTRAL\n",
      "\n",
      "3-class softmax model:\n",
      "{'classwise_logits': tensor([[ 6.1652, -2.9934, -5.0895]]), 'class_probabilities': tensor([[9.9988e-01, 1.0529e-04, 1.2945e-05]])}\n",
      "Ordinal model:\n",
      "{'article_score': tensor([[-13.2398]]), 'class_probabilities': tensor([[1.0000e+00, 1.7881e-06, 0.0000e+00]])}\n"
     ]
    }
   ],
   "source": [
    "# select an article to run\n",
    "from news_clf.text_utils import shorten_to_n_words\n",
    "import numpy as np\n",
    "\n",
    "target = 'NEUTRAL'\n",
    "i = np.random.choice(np.where(df_framing_annotations.FRAMING_CLASS == target)[0])\n",
    "example = df_framing_annotations.iloc[i]\n",
    "\n",
    "print(example.source)\n",
    "print(example.title)\n",
    "print(shorten_to_n_words(example.body, 250))\n",
    "\n",
    "print('\\nAnnotation:', example.FRAMING_CLASS)\n",
    "print('\\n3-class softmax model:')\n",
    "print(clf_3class.classify_article(example.title, example.body))\n",
    "\n",
    "print('Ordinal model:')\n",
    "print(clf_ordinal.classify_article(example.title, example.body))"
   ]
  },
  {
   "cell_type": "markdown",
   "id": "00c55582-2a63-410f-941d-7ef58a2a2ae7",
   "metadata": {},
   "source": [
    "#### A loaded article:"
   ]
  },
  {
   "cell_type": "code",
   "execution_count": 6,
   "id": "d1304f34-8107-4173-bd55-2b2cd37181c8",
   "metadata": {},
   "outputs": [
    {
     "name": "stdout",
     "output_type": "stream",
     "text": [
      "{'uri': 'techdirt.com', 'dataType': 'news', 'title': 'Techdirt'}\n",
      "Remember When MAGA Thought A Few Stern Emails From The Gov't Made Twitter A State Actor? About That...\n",
      "Here's a question about the First Amendment and social media companies that used to just be in the realm of crazy law school hypotheticals: What makes social media sites \"state actors\" subject to constitutional constraints? For years, we heard from some that merely talking to government officials was enough -- at least according to Vivek Ramaswamy, RFK Jr., and (disgraced) Yale Law professor Jed Rubenfeld. They argued, with increasingly creative (and decreasingly convincing) legal theories, that if a White House staffer sent an angry email about content moderation, that transformed Meta into an arm of the state.\n",
      "\n",
      "But now we have an actually interesting scenario: What if the government officials literally own and run the social media companies?\n",
      "\n",
      "Ramaswamy and Rubenfeld wrote an op-ed in the WSJ arguing that Section 230 alone made tech companies into state actors. Then, Rubenfeld joined RFK Jr. to make this argument in court, after Meta suspended some of RFK Jr.'s anti-vax nonsense. That argument failed in court as judges (rightly) noted that none of this turned companies into state actors. There would have to be a much clearer (and more coercive) relationship between government actors and social media companies.\n",
      "\n",
      "But now we face a situation that makes those earlier claims look quaint: two of the most powerful people in our government -- Donald Trump and Elon Musk -- literally own and control major social networks. Does that finally make these platforms actual state actors? After all, ExTwitter and Truth Social aren't just[truncated]...\n",
      "\n",
      "Annotation: LOADED\n",
      "\n",
      "3-class softmax model:\n",
      "{'classwise_logits': tensor([[-1.4041,  3.0915, -3.3774]]), 'class_probabilities': tensor([[0.0110, 0.9874, 0.0015]])}\n",
      "Ordinal model:\n",
      "{'article_score': tensor([[2.9927]]), 'class_probabilities': tensor([[0.0478, 0.8991, 0.0532]])}\n"
     ]
    }
   ],
   "source": [
    "target = 'LOADED'\n",
    "i = np.random.choice(np.where(df_framing_annotations.FRAMING_CLASS == target)[0])\n",
    "example = df_framing_annotations.iloc[i]\n",
    "\n",
    "print(example.source)\n",
    "print(example.title)\n",
    "print(shorten_to_n_words(example.body, 250))\n",
    "\n",
    "print('\\nAnnotation:', example.FRAMING_CLASS)\n",
    "print('\\n3-class softmax model:')\n",
    "print(clf_3class.classify_article(example.title, example.body))\n",
    "\n",
    "print('Ordinal model:')\n",
    "print(clf_ordinal.classify_article(example.title, example.body))"
   ]
  },
  {
   "cell_type": "markdown",
   "id": "8b6193a8-d1f0-4cea-976c-f334f72b63d5",
   "metadata": {},
   "source": [
    "#### An alarmist article:"
   ]
  },
  {
   "cell_type": "code",
   "execution_count": 7,
   "id": "ac0bae1b-0671-4fcb-8b4e-56dec6510bf4",
   "metadata": {},
   "outputs": [
    {
     "name": "stdout",
     "output_type": "stream",
     "text": [
      "{'uri': 'palestinechronicle.com', 'dataType': 'news', 'title': 'Palestine Chronicle'}\n",
      "Why the World is Silent on Gaza Genocide, and Sometimes Worse When It Speaks\n",
      "In his first Sunday address on May 11, Pope Leo XIV called for an immediate ceasefire in Gaza and expressed concern over escalating global warfare. Because he reiterated his predecessor's support for Gaza, the Pope committed no acts of commission (active wrongdoing) nor did he perpetrate the more common acts of omission (failure to act when one is morally responsible to do so).\n",
      "\n",
      "The same cannot be said for much of the world's population. There, the sentiment runs from \"individuals cannot change the world so why bother?\" to \"Israel has a right to defend itself against another terrorist attack.\"\n",
      "\n",
      "As for the former, individuals such as journalists, writers, and public commentators can certainly make a difference, while the rest could join an organization that works collectively to bring about global peace with justice.\n",
      "\n",
      "Regarding the latter, which is possibly more pernicious, Israel, because it is the colonizer, does not have the legal right to commit genocide against the colonized. Because this misinformation is so rampant, it has led to the entity's ability to commit mass murder with impunity.\n",
      "\n",
      "While Israel continues to perform one atrocity after the next, each more horrific than the last, there seems to be very little action to stop it.\n",
      "\n",
      "As Ramzy Baroud observes, these acts of omission are performed with \"varying degrees of anger, helplessness, or total disregard.\"\n",
      "\n",
      "Even when some activists are not silent, either individually or as group policy, there is often much that is purposely omitted from their statements[truncated]...\n",
      "\n",
      "Annotation: ALARMIST\n",
      "\n",
      "3-class softmax model:\n",
      "{'classwise_logits': tensor([[-3.9240,  1.2458,  2.8055]]), 'class_probabilities': tensor([[0.0010, 0.1735, 0.8255]])}\n",
      "Ordinal model:\n",
      "{'article_score': tensor([[13.9063]]), 'class_probabilities': tensor([[9.1320e-07, 3.2326e-04, 9.9968e-01]])}\n"
     ]
    }
   ],
   "source": [
    "target = 'ALARMIST'\n",
    "i = np.random.choice(np.where(df_framing_annotations.FRAMING_CLASS == target)[0])\n",
    "example = df_framing_annotations.iloc[i]\n",
    "\n",
    "print(example.source)\n",
    "print(example.title)\n",
    "print(shorten_to_n_words(example.body, 250))\n",
    "\n",
    "print('\\nAnnotation:', example.FRAMING_CLASS)\n",
    "print('\\n3-class softmax model:')\n",
    "print(clf_3class.classify_article(example.title, example.body))\n",
    "\n",
    "print('Ordinal model:')\n",
    "print(clf_ordinal.classify_article(example.title, example.body))"
   ]
  },
  {
   "cell_type": "code",
   "execution_count": null,
   "id": "95930c13-cad5-485b-8dfb-499cd5a7b706",
   "metadata": {},
   "outputs": [],
   "source": []
  },
  {
   "cell_type": "code",
   "execution_count": null,
   "id": "c38df725-5460-4518-b690-3ebf895e2f90",
   "metadata": {},
   "outputs": [],
   "source": []
  },
  {
   "cell_type": "code",
   "execution_count": null,
   "id": "d8da6409-ef0c-41aa-b761-69a71bfdb664",
   "metadata": {},
   "outputs": [],
   "source": []
  },
  {
   "cell_type": "code",
   "execution_count": null,
   "id": "c06bf4e7-5b71-490e-96a2-5785ec4f622a",
   "metadata": {},
   "outputs": [],
   "source": []
  }
 ],
 "metadata": {
  "kernelspec": {
   "display_name": "Python 3 (ipykernel)",
   "language": "python",
   "name": "python3"
  },
  "language_info": {
   "codemirror_mode": {
    "name": "ipython",
    "version": 3
   },
   "file_extension": ".py",
   "mimetype": "text/x-python",
   "name": "python",
   "nbconvert_exporter": "python",
   "pygments_lexer": "ipython3",
   "version": "3.12.2"
  }
 },
 "nbformat": 4,
 "nbformat_minor": 5
}
