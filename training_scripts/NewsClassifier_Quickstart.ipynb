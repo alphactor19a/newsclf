{
 "cells": [
  {
   "cell_type": "markdown",
   "id": "5b4c95ba-26a3-4725-add1-621bf663ec02",
   "metadata": {},
   "source": [
    "# News Classifier Quickstart\n",
    "\n",
    "The code should run out of the box if the following dependencies are installed:\n",
    "```\n",
    "# dependencies:\n",
    "# pytorch\n",
    "# transformers\n",
    "# safetensors\n",
    "```\n",
    "The models are packaged in the `news_clf` subdirectory. The mode classes handle tokenization to the training length (1500 tokens) and calculation of class scores (ordinal model only) and class probabilities from the base model outputs.\n",
    "\n",
    "The base model is `microsoft/deberta-v3-xsmall`. The \"`xsmall`\" model specification is actually the same size as `deberta-v3-small`, but trades breadth for depth (smaller embeddings, deeper network), which should work better given the abstract nature of the target categories. More depth allows the article information to be integrated across a larger range."
   ]
  },
  {
   "cell_type": "code",
   "execution_count": 1,
   "id": "3d044ebf-f87b-4dca-b14d-27bd05f67c12",
   "metadata": {},
   "outputs": [
    {
     "name": "stderr",
     "output_type": "stream",
     "text": [
      "2025-06-12 09:10:08.684209: I tensorflow/core/util/port.cc:153] oneDNN custom operations are on. You may see slightly different numerical results due to floating-point round-off errors from different computation orders. To turn them off, set the environment variable `TF_ENABLE_ONEDNN_OPTS=0`.\n",
      "2025-06-12 09:10:08.804503: E external/local_xla/xla/stream_executor/cuda/cuda_fft.cc:467] Unable to register cuFFT factory: Attempting to register factory for plugin cuFFT when one has already been registered\n",
      "WARNING: All log messages before absl::InitializeLog() is called are written to STDERR\n",
      "E0000 00:00:1749733808.858336  154515 cuda_dnn.cc:8579] Unable to register cuDNN factory: Attempting to register factory for plugin cuDNN when one has already been registered\n",
      "E0000 00:00:1749733808.871898  154515 cuda_blas.cc:1407] Unable to register cuBLAS factory: Attempting to register factory for plugin cuBLAS when one has already been registered\n",
      "W0000 00:00:1749733808.967588  154515 computation_placer.cc:177] computation placer already registered. Please check linkage and avoid linking the same target more than once.\n",
      "W0000 00:00:1749733808.967636  154515 computation_placer.cc:177] computation placer already registered. Please check linkage and avoid linking the same target more than once.\n",
      "W0000 00:00:1749733808.967637  154515 computation_placer.cc:177] computation placer already registered. Please check linkage and avoid linking the same target more than once.\n",
      "W0000 00:00:1749733808.967639  154515 computation_placer.cc:177] computation placer already registered. Please check linkage and avoid linking the same target more than once.\n",
      "2025-06-12 09:10:08.980158: I tensorflow/core/platform/cpu_feature_guard.cc:210] This TensorFlow binary is optimized to use available CPU instructions in performance-critical operations.\n",
      "To enable the following instructions: AVX2 AVX_VNNI FMA, in other operations, rebuild TensorFlow with the appropriate compiler flags.\n"
     ]
    }
   ],
   "source": [
    "from news_clf import ( PretrainedModelForOrdinalSequenceClassification, \n",
    "                       PretrainedModelForUnorderedSequenceClassification )\n",
    "\n",
    "device_map = 'cpu' # set to 'auto' to use gpu if available"
   ]
  },
  {
   "cell_type": "markdown",
   "id": "30161131-2a51-4fe6-a5d5-4b1c8640a549",
   "metadata": {},
   "source": [
    "### Load in the two model versions\n",
    "\n",
    "The two models perform comparably but the ordinal model edges out the 3-discrete class model by about .1% accuracy. Both achieve about 89% accuracy and can be used for probabilities, but only the ordinal model returns a one-dimensional score for the articles."
   ]
  },
  {
   "cell_type": "code",
   "execution_count": 2,
   "id": "b67eabc3-6c3c-4aa5-b965-4864930ab7a9",
   "metadata": {},
   "outputs": [
    {
     "name": "stderr",
     "output_type": "stream",
     "text": [
      "Some weights of DebertaV2ForSequenceClassification were not initialized from the model checkpoint at microsoft/deberta-v3-xsmall and are newly initialized: ['classifier.bias', 'classifier.weight', 'pooler.dense.bias', 'pooler.dense.weight']\n",
      "You should probably TRAIN this model on a down-stream task to be able to use it for predictions and inference.\n",
      "/home/matthias/anaconda3/lib/python3.12/site-packages/transformers/convert_slow_tokenizer.py:559: UserWarning: The sentencepiece tokenizer that you are converting to a fast tokenizer uses the byte fallback option which is not implemented in the fast tokenizers. In practice this means that the fast version of the tokenizer can produce unknown tokens whereas the sentencepiece version would have converted these unknown tokens into a sequence of byte tokens matching the original piece of text.\n",
      "  warnings.warn(\n"
     ]
    }
   ],
   "source": [
    "checkpoint_3class = '3class_model_best_checkpoint.safetensors' # accuracy for the 3class model is .8957\n",
    "clf_3class = PretrainedModelForUnorderedSequenceClassification(device_map=device_map, checkpoint=checkpoint_3class)"
   ]
  },
  {
   "cell_type": "code",
   "execution_count": 3,
   "id": "4f3816f6-0508-4ba0-8bb1-bbc1fb072607",
   "metadata": {},
   "outputs": [
    {
     "name": "stderr",
     "output_type": "stream",
     "text": [
      "/home/matthias/anaconda3/lib/python3.12/site-packages/transformers/convert_slow_tokenizer.py:559: UserWarning: The sentencepiece tokenizer that you are converting to a fast tokenizer uses the byte fallback option which is not implemented in the fast tokenizers. In practice this means that the fast version of the tokenizer can produce unknown tokens whereas the sentencepiece version would have converted these unknown tokens into a sequence of byte tokens matching the original piece of text.\n",
      "  warnings.warn(\n"
     ]
    }
   ],
   "source": [
    "checkpoint_ordinal = 'ordinal_model_best_checkpoint.safetensors' # accuracy for the ordinal model is .8973\n",
    "clf_ordinal = PretrainedModelForOrdinalSequenceClassification(device_map=device_map, checkpoint=checkpoint_ordinal)"
   ]
  },
  {
   "cell_type": "markdown",
   "id": "c0666325-b211-459a-8d9d-8749b42b71be",
   "metadata": {},
   "source": [
    "### Processing an article\n",
    "\n",
    "Use the `classify_article` method with a title and body (the model requires both, if there is no title input the empty string `''`). Articles are truncated to a maximum of 1,500 tokens."
   ]
  },
  {
   "cell_type": "code",
   "execution_count": 4,
   "id": "25e01130-207c-4382-b4ef-a49809c6c051",
   "metadata": {},
   "outputs": [],
   "source": [
    "import pandas as pd\n",
    "\n",
    "# load in the training data\n",
    "df_framing_annotations = pd.read_csv('Dataset-framing_annotations-Llama-3.3-70B-Instruct-Turbo.csv')"
   ]
  },
  {
   "cell_type": "markdown",
   "id": "c514dcee-e475-4470-97fc-99fbcccaae10",
   "metadata": {},
   "source": [
    "#### A neutral article:"
   ]
  },
  {
   "cell_type": "code",
   "execution_count": 5,
   "id": "86bcbc66-a808-49a2-9ebd-696fa62460e8",
   "metadata": {},
   "outputs": [
    {
     "name": "stdout",
     "output_type": "stream",
     "text": [
      "{'uri': 'economictimes.indiatimes.com', 'dataType': 'news', 'title': 'Economic Times'}\n",
      "Brigitte Macron net worth: From Chocolate Heiress to France's First Lady\n",
      "Brigitte Macron, France's First Lady, has captured public attention due to a viral video and her unique relationship with President Emmanuel Macron. Hailing from the Trogneux family, renowned for their chocolate business, she accumulated wealth through inheritance and real estate, including the valuable Villa Monéjan.A viral video of France's First Lady, Brigitte Macron, appearing to gently shove President Emmanuel Macron before stepping off a presidential plane has rekindled public fascination with their relationship. While Macron dismissed the moment as playful -- \"I was bickering, or rather joking, with my wife\" -- it reignited curiosity about the couple's dynamic, their 25-year age gap, and Brigitte herself. So, who is the woman beside France's president -- and how much is she worth?\n",
      "\n",
      "Born Brigitte Marie-Claude Trogneux on April 13, 1953, in Amiens, France, she hails from the Trogneux family -- renowned for their luxury chocolate business, Chocolaterie Trogneux, founded in 1872. Today, the family enterprise continues under her nephew Jean-Alexandre Trogneux, producing around two million macarons annually across France.\n",
      "\n",
      "Brigitte began her professional life as a literature teacher in the 1980s, later teaching French and Latin at Lycée la Providence in Amiens. It was there she met a 15-year-old Emmanuel Macron, then her student and classmate of her daughter. Though controversial, their relationship would evolve over time, with the couple marrying in 2007. She later taught at Lycée Saint-Louis de Gonzague in Paris until 2015.\n",
      "\n",
      "Unlike her husband -- whose financial disclosures show relatively modest assets[truncated]...\n",
      "\n",
      "Annotation: NEUTRAL\n",
      "\n",
      "3-class softmax model:\n",
      "{'classwise_logits': tensor([[ 5.4016, -1.5892, -5.7022]]), 'class_probabilities': tensor([[9.9907e-01, 9.1939e-04, 1.5040e-05]])}\n",
      "Ordinal model:\n",
      "{'article_score': tensor([[-13.1949]]), 'class_probabilities': tensor([[1.0000e+00, 1.9073e-06, 0.0000e+00]])}\n"
     ]
    }
   ],
   "source": [
    "# select an article to run\n",
    "from news_clf.text_utils import shorten_to_n_words\n",
    "import numpy as np\n",
    "\n",
    "target = 'NEUTRAL'\n",
    "i = np.random.choice(np.where(df_framing_annotations.FRAMING_CLASS == target)[0])\n",
    "example = df_framing_annotations.iloc[i]\n",
    "\n",
    "print(example.source)\n",
    "print(example.title)\n",
    "print(shorten_to_n_words(example.body, 250))\n",
    "\n",
    "print('\\nAnnotation:', example.FRAMING_CLASS)\n",
    "print('\\n3-class softmax model:')\n",
    "print(clf_3class.classify_article(example.title, example.body))\n",
    "\n",
    "print('Ordinal model:')\n",
    "print(clf_ordinal.classify_article(example.title, example.body))"
   ]
  },
  {
   "cell_type": "markdown",
   "id": "00c55582-2a63-410f-941d-7ef58a2a2ae7",
   "metadata": {},
   "source": [
    "#### A loaded article:"
   ]
  },
  {
   "cell_type": "code",
   "execution_count": 6,
   "id": "d1304f34-8107-4173-bd55-2b2cd37181c8",
   "metadata": {},
   "outputs": [
    {
     "name": "stdout",
     "output_type": "stream",
     "text": [
      "{'uri': 'gadgets360.com', 'dataType': 'news', 'title': 'NDTV Gadgets 360'}\n",
      "AI Researchers Secretly Used Reddit to Test Chatbot Persuasion\n",
      "Subreddit moderators denounce study as unethical, deceptive, and unauthor\n",
      "\n",
      "In a covert experiment now sparking legal threats, researchers from the University of Zurich deployed artificial intelligence (AI) bots to test how effectively they could sway opinions on Reddit -- all without user consent. The bots infiltrated the subreddit r/ChangeMyView, which has nearly four million members and exists to facilitate civil debates on controversial topics. Over time, these AI agents posted more than 1,700 comments while posing as real users, ranging from a male rape survivor minimising trauma to a black man criticising Black Lives Matter. None of the subreddit users were told the posts were created by artificial intelligence.\n",
      "\n",
      "As per a 404 Media report, the study's findings were not announced until after the experiment had concluded; researchers and moderators of the subreddit revealed their activities and linked to a draft of their results. The draft noted that the bots were between three and six times more persuasive than human commenters, gauged through Reddit's award system for changed opinions.\n",
      "\n",
      "To customise responses, one artificial intelligence looked through user histories, thereby enhancing the effect. Amazingly, none of the Reddit users seemed to believe that artificial intelligence wrote the comments.\n",
      "\n",
      "The reaction came quickly. Publicly denouncing the experiment, moderators on r/ChangeMyView mentioned it was immoral and unapproved. Also added that they question whether 'it has not been done before' is a justification. Chief legal officer Ben Lee of Reddit also attacked the research, claiming it breached both fundamental[truncated]...\n",
      "\n",
      "Annotation: LOADED\n",
      "\n",
      "3-class softmax model:\n",
      "{'classwise_logits': tensor([[-0.5026,  2.5116, -3.8909]]), 'class_probabilities': tensor([[0.0467, 0.9517, 0.0016]])}\n",
      "Ordinal model:\n",
      "{'article_score': tensor([[3.0450]]), 'class_probabilities': tensor([[0.0454, 0.8987, 0.0559]])}\n"
     ]
    }
   ],
   "source": [
    "target = 'LOADED'\n",
    "i = np.random.choice(np.where(df_framing_annotations.FRAMING_CLASS == target)[0])\n",
    "example = df_framing_annotations.iloc[i]\n",
    "\n",
    "print(example.source)\n",
    "print(example.title)\n",
    "print(shorten_to_n_words(example.body, 250))\n",
    "\n",
    "print('\\nAnnotation:', example.FRAMING_CLASS)\n",
    "print('\\n3-class softmax model:')\n",
    "print(clf_3class.classify_article(example.title, example.body))\n",
    "\n",
    "print('Ordinal model:')\n",
    "print(clf_ordinal.classify_article(example.title, example.body))"
   ]
  },
  {
   "cell_type": "markdown",
   "id": "8b6193a8-d1f0-4cea-976c-f334f72b63d5",
   "metadata": {},
   "source": [
    "#### An alarmist article:"
   ]
  },
  {
   "cell_type": "code",
   "execution_count": 7,
   "id": "ac0bae1b-0671-4fcb-8b4e-56dec6510bf4",
   "metadata": {},
   "outputs": [
    {
     "name": "stdout",
     "output_type": "stream",
     "text": [
      "{'uri': 'dnyuz.com', 'dataType': 'news', 'title': 'DNyuz'}\n",
      "Fight Like Our Democracy Depends on It\n",
      "The first 100 days of President Trump's second term have done more damage to American democracy than anything else since the demise of Reconstruction. Mr. Trump is attempting to create a presidency unconstrained by Congress or the courts, in which he and his appointees can override written law when they want to. It is precisely the autocratic approach that this nation's founders sought to prevent when writing the Constitution.\n",
      "\n",
      "Mr. Trump has the potential to do far more harm in the remainder of his term. If he continues down this path and Congress and the courts fail to stop him, it could fundamentally alter the character of American government. Future presidents, seeking to either continue or undo his policies, will be tempted to pursue a similarly unbound approach, in which they use the powers of the federal government to silence critics and reward allies.\n",
      "\n",
      "It pains us to write these words. Whatever our policy differences with other modern presidents, every one of them fundamentally believed in democracy. They viewed freedom, constitutional checks and balances and respect for political opponents as \"the bulwark of our Republic,\" as Ronald Reagan said in the opening of his first Inaugural Address, while praising his predecessor Jimmy Carter.\n",
      "\n",
      "The patriotic response to today's threat is to oppose Mr. Trump. But it is to do so soberly and strategically, not reflexively or performatively. It is to build a coalition of Americans who disagree about many other subjects -- who span conservative and progressive, internationalist[truncated]...\n",
      "\n",
      "Annotation: ALARMIST\n",
      "\n",
      "3-class softmax model:\n",
      "{'classwise_logits': tensor([[-4.0477,  2.7912,  1.1407]]), 'class_probabilities': tensor([[0.0009, 0.8382, 0.1609]])}\n",
      "Ordinal model:\n",
      "{'article_score': tensor([[13.8392]]), 'class_probabilities': tensor([[9.7663e-07, 3.4570e-04, 9.9965e-01]])}\n"
     ]
    }
   ],
   "source": [
    "target = 'ALARMIST'\n",
    "i = np.random.choice(np.where(df_framing_annotations.FRAMING_CLASS == target)[0])\n",
    "example = df_framing_annotations.iloc[i]\n",
    "\n",
    "print(example.source)\n",
    "print(example.title)\n",
    "print(shorten_to_n_words(example.body, 250))\n",
    "\n",
    "print('\\nAnnotation:', example.FRAMING_CLASS)\n",
    "print('\\n3-class softmax model:')\n",
    "print(clf_3class.classify_article(example.title, example.body))\n",
    "\n",
    "print('Ordinal model:')\n",
    "print(clf_ordinal.classify_article(example.title, example.body))"
   ]
  },
  {
   "cell_type": "code",
   "execution_count": null,
   "id": "95930c13-cad5-485b-8dfb-499cd5a7b706",
   "metadata": {},
   "outputs": [],
   "source": []
  },
  {
   "cell_type": "code",
   "execution_count": 12,
   "id": "c38df725-5460-4518-b690-3ebf895e2f90",
   "metadata": {},
   "outputs": [
    {
     "data": {
      "text/html": [
       "<div>\n",
       "<style scoped>\n",
       "    .dataframe tbody tr th:only-of-type {\n",
       "        vertical-align: middle;\n",
       "    }\n",
       "\n",
       "    .dataframe tbody tr th {\n",
       "        vertical-align: top;\n",
       "    }\n",
       "\n",
       "    .dataframe thead th {\n",
       "        text-align: right;\n",
       "    }\n",
       "</style>\n",
       "<table border=\"1\" class=\"dataframe\">\n",
       "  <thead>\n",
       "    <tr style=\"text-align: right;\">\n",
       "      <th></th>\n",
       "      <th>concept</th>\n",
       "      <th>source</th>\n",
       "      <th>dateTimePub</th>\n",
       "      <th>title</th>\n",
       "      <th>body</th>\n",
       "      <th>sentiment</th>\n",
       "      <th>url</th>\n",
       "      <th>FRAMING_CLASS</th>\n",
       "      <th>ANSWER_REFUSAL</th>\n",
       "      <th>PROMPT_NUM_TOKENS</th>\n",
       "    </tr>\n",
       "  </thead>\n",
       "  <tbody>\n",
       "    <tr>\n",
       "      <th>102956</th>\n",
       "      <td>tariffs</td>\n",
       "      <td>{'uri': 'economictimes.indiatimes.com', 'dataT...</td>\n",
       "      <td>2025-04-30T16:42:17Z</td>\n",
       "      <td>Trump's tariffs have launched global trade war...</td>\n",
       "      <td>Donald Trump's sweeping new tariffs have reign...</td>\n",
       "      <td>-0.262745</td>\n",
       "      <td>https://economictimes.indiatimes.com/tech/tech...</td>\n",
       "      <td>NEUTRAL</td>\n",
       "      <td>NaN</td>\n",
       "      <td>10580</td>\n",
       "    </tr>\n",
       "    <tr>\n",
       "      <th>102957</th>\n",
       "      <td>tariffs</td>\n",
       "      <td>{'uri': 'idahostatejournal.com', 'dataType': '...</td>\n",
       "      <td>2025-04-30T13:48:01Z</td>\n",
       "      <td>Trump's tariffs have launched global trade war...</td>\n",
       "      <td>NEW YORK (AP) --\\n\\nLong-threatened tariffs fr...</td>\n",
       "      <td>-0.223529</td>\n",
       "      <td>https://www.idahostatejournal.com/news/nationa...</td>\n",
       "      <td>LOADED</td>\n",
       "      <td>NaN</td>\n",
       "      <td>10614</td>\n",
       "    </tr>\n",
       "    <tr>\n",
       "      <th>102958</th>\n",
       "      <td>tariffs</td>\n",
       "      <td>{'uri': 'wral.com', 'dataType': 'news', 'title...</td>\n",
       "      <td>2025-04-30T13:48:01Z</td>\n",
       "      <td>Trump's tariffs have launched global trade war...</td>\n",
       "      <td>Long-threatened tariffs from U.S. President Do...</td>\n",
       "      <td>-0.223529</td>\n",
       "      <td>https://www.wral.com/story/trumps-tariffs-have...</td>\n",
       "      <td>LOADED</td>\n",
       "      <td>NaN</td>\n",
       "      <td>10581</td>\n",
       "    </tr>\n",
       "    <tr>\n",
       "      <th>102959</th>\n",
       "      <td>tariffs</td>\n",
       "      <td>{'uri': 'cnet.com', 'dataType': 'news', 'title...</td>\n",
       "      <td>2025-05-20T19:17:02Z</td>\n",
       "      <td>Tariffs Explained: I Have Everything You Need ...</td>\n",
       "      <td>Thomas is a native of upstate New York and a g...</td>\n",
       "      <td>-0.003922</td>\n",
       "      <td>https://www.cnet.com/personal-finance/tariffs-...</td>\n",
       "      <td>LOADED</td>\n",
       "      <td>NaN</td>\n",
       "      <td>10439</td>\n",
       "    </tr>\n",
       "    <tr>\n",
       "      <th>102960</th>\n",
       "      <td>tariffs</td>\n",
       "      <td>{'uri': 'cnet.com', 'dataType': 'news', 'title...</td>\n",
       "      <td>2025-05-20T10:00:00Z</td>\n",
       "      <td>Tariffs Explained: Price Hikes Loom as Trump C...</td>\n",
       "      <td>Thomas is a native of upstate New York and a g...</td>\n",
       "      <td>-0.050980</td>\n",
       "      <td>https://www.cnet.com/personal-finance/tariffs-...</td>\n",
       "      <td>LOADED</td>\n",
       "      <td>NaN</td>\n",
       "      <td>10439</td>\n",
       "    </tr>\n",
       "  </tbody>\n",
       "</table>\n",
       "</div>"
      ],
      "text/plain": [
       "        concept                                             source  \\\n",
       "102956  tariffs  {'uri': 'economictimes.indiatimes.com', 'dataT...   \n",
       "102957  tariffs  {'uri': 'idahostatejournal.com', 'dataType': '...   \n",
       "102958  tariffs  {'uri': 'wral.com', 'dataType': 'news', 'title...   \n",
       "102959  tariffs  {'uri': 'cnet.com', 'dataType': 'news', 'title...   \n",
       "102960  tariffs  {'uri': 'cnet.com', 'dataType': 'news', 'title...   \n",
       "\n",
       "                 dateTimePub  \\\n",
       "102956  2025-04-30T16:42:17Z   \n",
       "102957  2025-04-30T13:48:01Z   \n",
       "102958  2025-04-30T13:48:01Z   \n",
       "102959  2025-05-20T19:17:02Z   \n",
       "102960  2025-05-20T10:00:00Z   \n",
       "\n",
       "                                                    title  \\\n",
       "102956  Trump's tariffs have launched global trade war...   \n",
       "102957  Trump's tariffs have launched global trade war...   \n",
       "102958  Trump's tariffs have launched global trade war...   \n",
       "102959  Tariffs Explained: I Have Everything You Need ...   \n",
       "102960  Tariffs Explained: Price Hikes Loom as Trump C...   \n",
       "\n",
       "                                                     body  sentiment  \\\n",
       "102956  Donald Trump's sweeping new tariffs have reign...  -0.262745   \n",
       "102957  NEW YORK (AP) --\\n\\nLong-threatened tariffs fr...  -0.223529   \n",
       "102958  Long-threatened tariffs from U.S. President Do...  -0.223529   \n",
       "102959  Thomas is a native of upstate New York and a g...  -0.003922   \n",
       "102960  Thomas is a native of upstate New York and a g...  -0.050980   \n",
       "\n",
       "                                                      url FRAMING_CLASS  \\\n",
       "102956  https://economictimes.indiatimes.com/tech/tech...       NEUTRAL   \n",
       "102957  https://www.idahostatejournal.com/news/nationa...        LOADED   \n",
       "102958  https://www.wral.com/story/trumps-tariffs-have...        LOADED   \n",
       "102959  https://www.cnet.com/personal-finance/tariffs-...        LOADED   \n",
       "102960  https://www.cnet.com/personal-finance/tariffs-...        LOADED   \n",
       "\n",
       "        ANSWER_REFUSAL  PROMPT_NUM_TOKENS  \n",
       "102956             NaN              10580  \n",
       "102957             NaN              10614  \n",
       "102958             NaN              10581  \n",
       "102959             NaN              10439  \n",
       "102960             NaN              10439  "
      ]
     },
     "execution_count": 12,
     "metadata": {},
     "output_type": "execute_result"
    }
   ],
   "source": [
    "tariffs_articles = df_framing_annotations[df_framing_annotations.concept == 'tariffs']\n",
    "tariffs_articles.head()"
   ]
  },
  {
   "cell_type": "code",
   "execution_count": null,
   "id": "0353786e-9656-405b-bda3-ac855866a687",
   "metadata": {},
   "outputs": [],
   "source": []
  },
  {
   "cell_type": "code",
   "execution_count": 14,
   "id": "d8da6409-ef0c-41aa-b761-69a71bfdb664",
   "metadata": {},
   "outputs": [
    {
     "name": "stdout",
     "output_type": "stream",
     "text": [
      "{'uri': 'edition.cnn.com', 'dataType': 'news', 'title': 'CNN International'}\n",
      "Here's what will get more expensive at Walmart because of tariffs\n",
      "Time is running out for Walmart shoppers to avoid higher prices.\n",
      "\n",
      "The retail giant on Thursday warned that its products will become more expensive due to President Donald Trump's tariffs being \"too high.\"\n",
      "\n",
      "\"We will do our best to keep our prices as low as possible. But given the magnitude of the tariffs, even at the reduced levels announced this week, we aren't able to absorb all the pressure given the reality of narrow retail margins,\" Walmart CEO Douglas McMillon said in an earnings call.\n",
      "\n",
      "The changes will likely take effect by the end of May, and prices will increase \"much more\" in June, Walmart's finance chief, John David Rainey, told CNBC.\n",
      "\n",
      "Walmart, which has over 4,600 stores in the United States, gets merchandise from Canada, China, India, Mexico and Vietnam, among other nations. Those countries face at least 10% in tariffs, and imports of steel, aluminum, cars and auto parts face 25% tariffs.\n",
      "\n",
      "\"All of the tariffs create cost pressure for us, but the larger tariffs on China have the biggest impact,\" McMillon said.\n",
      "\n",
      "Trump increased tariffs on most Chinese goods to a whopping 145%, but that rate dropped to 30% on Monday as part of a 90-day truce with China. But Trump said the tariffs could become \"substantially higher\" if a trade agreement with China is not reached.\n",
      "\n",
      "Other countries are negotiating with the US amid a 90-day pause on reciprocal tariffs. Baseline tariffs will not go lower than 10% during negotiations[truncated]...\n",
      "\n",
      "Annotation: LOADED\n",
      "\n",
      "3-class softmax model:\n",
      "{'classwise_logits': tensor([[ 0.6657,  1.2584, -3.0550]]), 'class_probabilities': tensor([[0.3530, 0.6385, 0.0085]])}\n",
      "Ordinal model:\n",
      "{'article_score': tensor([[3.1499]]), 'class_probabilities': tensor([[0.0411, 0.8972, 0.0617]])}\n"
     ]
    }
   ],
   "source": [
    "i = np.random.choice(np.where(df_framing_annotations.concept == 'tariffs')[0])\n",
    "example = df_framing_annotations.iloc[i]\n",
    "\n",
    "print(example.source)\n",
    "print(example.title)\n",
    "print(shorten_to_n_words(example.body, 250))\n",
    "\n",
    "print('\\nAnnotation:', example.FRAMING_CLASS)\n",
    "print('\\n3-class softmax model:')\n",
    "print(clf_3class.classify_article(example.title, example.body))\n",
    "\n",
    "print('Ordinal model:')\n",
    "print(clf_ordinal.classify_article(example.title, example.body))"
   ]
  },
  {
   "cell_type": "code",
   "execution_count": null,
   "id": "18414026-8e7c-443e-b30f-69c7e9c726cc",
   "metadata": {},
   "outputs": [],
   "source": []
  },
  {
   "cell_type": "code",
   "execution_count": null,
   "id": "c0cdc009-b159-4ecb-bbb9-4e9802dfc96d",
   "metadata": {},
   "outputs": [],
   "source": []
  },
  {
   "cell_type": "code",
   "execution_count": null,
   "id": "629c1169-3352-49fa-b873-fc8cbb6a7cc5",
   "metadata": {},
   "outputs": [],
   "source": []
  },
  {
   "cell_type": "code",
   "execution_count": null,
   "id": "dd58c982-8ff9-43a2-aaa6-2848c7f5fb4c",
   "metadata": {},
   "outputs": [],
   "source": [
    "i = np.random.choice(np.where(df_framing_annotations.concept == 'tariffs')[0])\n",
    "example = df_framing_annotations.iloc[i]\n",
    "\n",
    "print(example.source)\n",
    "print(example.title)\n",
    "print(shorten_to_n_words(example.body, 250))\n",
    "\n",
    "print('\\nAnnotation:', example.FRAMING_CLASS)\n",
    "print('\\n3-class softmax model:')\n",
    "print(clf_3class.classify_article(example.title, example.body))\n",
    "\n",
    "print('Ordinal model:')\n",
    "print(clf_ordinal.classify_article(example.title, example.body))"
   ]
  },
  {
   "cell_type": "code",
   "execution_count": null,
   "id": "2c815e8d-b607-4368-95dc-28968446c4d3",
   "metadata": {},
   "outputs": [],
   "source": []
  },
  {
   "cell_type": "code",
   "execution_count": null,
   "id": "3d23b342-e282-458f-a86e-07ec7aa331e7",
   "metadata": {},
   "outputs": [],
   "source": []
  },
  {
   "cell_type": "code",
   "execution_count": null,
   "id": "c06bf4e7-5b71-490e-96a2-5785ec4f622a",
   "metadata": {},
   "outputs": [],
   "source": []
  }
 ],
 "metadata": {
  "kernelspec": {
   "display_name": "Python 3 (ipykernel)",
   "language": "python",
   "name": "python3"
  },
  "language_info": {
   "codemirror_mode": {
    "name": "ipython",
    "version": 3
   },
   "file_extension": ".py",
   "mimetype": "text/x-python",
   "name": "python",
   "nbconvert_exporter": "python",
   "pygments_lexer": "ipython3",
   "version": "3.12.2"
  }
 },
 "nbformat": 4,
 "nbformat_minor": 5
}
